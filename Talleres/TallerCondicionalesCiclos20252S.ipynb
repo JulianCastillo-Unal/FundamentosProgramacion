{
  "nbformat": 4,
  "nbformat_minor": 0,
  "metadata": {
    "colab": {
      "provenance": [],
      "toc_visible": true
    },
    "kernelspec": {
      "name": "python3",
      "display_name": "Python 3"
    },
    "language_info": {
      "name": "python"
    }
  },
  "cells": [
    {
      "cell_type": "markdown",
      "source": [
        "<div align=\"center\">\n",
        "<p><img alt=\"UdeA\" height=\"150px\" src=\"https://minas.medellin.unal.edu.co/proyectos/one-health-consortium/images/unal.png\" align=\"center\" hspace=\"10px\" vspace=\"0px\"></p>\n",
        "</div>\n",
        "<div> </div>\n",
        "\n",
        "\n",
        "<p>\n",
        "<h6 align=\"center\"> <b> </b> </h6>\n",
        "<h1 align=\"center\"> <b> Taller Fundamentos de Programación </b> </h1>\n",
        "<h2 align=\"center\"> <b> Condicionales y Ciclos </b> </h2>\n",
        "<hr size=10 noshade color=\"gray\">\n",
        "</p>\n",
        "<p>\n",
        "<img alt=\"CC\" height=\"70px\" src=\"https://creativecommons.org/images/deed/cc_blue_x2.png\" align=\"left\" hspace=\"0px\" vspace=\"0px\">\n",
        "<img alt=\"Attribution\" height=\"70px\" src=\"https://creativecommons.org/images/deed/attribution_icon_blue_x2.png\" align=\"left\" hspace=\"0px\" vspace=\"0px\">\n",
        "<img alt=\"NC\" height=\"70px\" src=\"https://creativecommons.org/images/deed/nc_blue_x2.png\" align=\"left\" hspace=\"0px\" vspace=\"0px\">\n",
        "<img alt=\"SA\" height=\"70px\" src=\"https://creativecommons.org/images/deed/sa_blue_x2.png\" align=\"left\" hspace=\"0px\" vspace=\"0px\">\n",
        "<br></br><br></br>\n",
        "</p>\n",
        "\n",
        "<hr size=1 noshade color=\"black\">\n",
        "<div align=\"right\">\n",
        "<h1> <strong>Docente: Laura Lotero </strong></h1>\n",
        "<h2><a href=\"mailto:llotero0@unal.edu.co\">✉ Laura Lotero</a></h2>\n",
        "\n",
        "<hr size=1 noshade color=\"black\">\n",
        "\n",
        "<h2> <strong>BEDA: Julián Castillo </strong></h2>\n",
        "<h3><a href=\"mailto:jacastil@unal.edu.co\">✉ Julian Castillo</a></h3>\n",
        "<hr size=1 noshade color=\"black\">\n",
        "\n",
        "<hr size=10 noshade color=\"purple\">\n",
        "</div>\n",
        "\n",
        "\n",
        "<div align=\"center\">\n",
        "\n",
        "<h3><a href=\"https://minaslap.net/course/view.php?id=320\">Enlace MinasLAP</a></h3>\n",
        "\n",
        "[![MinasLAP](https://minaslap.net/pluginfile.php/1/core_admin/logocompact/300x300/1755051362/Logo%20MinasLAP-3%20%281%29.png)](https://minaslap.net/course/view.php?id=320)\n"
      ],
      "metadata": {
        "id": "YOuSw5alQ6m_"
      }
    },
    {
      "cell_type": "markdown",
      "source": [
        "# **Taller de Condicionales y Ciclos**\n",
        "\n",
        "El presente taller contiene un resumen de las estructuras condicionales y repetitivas en conjunto con ejemplos de cada una de ellas y los ejercicios propuestos para solucionar en clase."
      ],
      "metadata": {
        "id": "hoKi8mUrYbRT"
      }
    },
    {
      "cell_type": "markdown",
      "metadata": {
        "id": "x7RmYrkoLipv"
      },
      "source": [
        "# **Condicionales y estructuras de selección**\n",
        "\n",
        "Las estructuras algorítmicas selectivas se encuentran la mayoría de los problemas computaciones y las vemos todos los días en nuestro día a día cuando debemos tomar una decisión y así saber que camino o acción realizamos.\n",
        "\n",
        "Las decisiones en la vida real se relacionan con una pregunta, por ejemplo, si tenemos varias opciones para ir a nuestro hogar podemos preguntarnos. ¿Qué opción debo tomar para llegar a mi hogar, bus, tren, Uber, otro?\n",
        "\n",
        "La respuesta va ligada a una decisión tomada por el actor dependiendo aspectos económicos, de tiempo u otros para definir el medio de transporte elegido.\n",
        "\n",
        "En dicho caso se puede optar por una sola condición, por ejemplo, si me interesa solo el tiempo de tránsito, consideraría tomar un Uber. Si tengo multiples restricciones como por ejemplo económicas elegiría el tren o el bus para minimizar el costo de tránsito. Estas situaciones se conocen como decisiones en cascada, es decir, una decisión afecta la siguiente y así sucesivamente hasta llegar a un resultado (tomar una decisión).\n",
        "\n",
        "---\n",
        "\n",
        "Las estructuras algorítmicas selectivas se utilizan para la toma de decisiones lógicas las podemos clasificar de la siguiente forma.\n",
        "\n",
        "\n",
        "*   Si Entonces\n",
        "*   Si Entonces / Sino\n",
        "*   Si Múltiple\n",
        "*   Estructuras selectivas en cascada (Anidadas)\n"
      ]
    },
    {
      "cell_type": "markdown",
      "metadata": {
        "id": "Pi0WY9FRS_zI"
      },
      "source": [
        "## **Python y el sangrado o \"Indentation\" - 1**\n",
        "\n",
        "La sangría se refiere a los espacios al comienzo de una línea de código.\n",
        "Mientras que en otros lenguajes de programación la sangría en el código es solo para legibilidad, la sangría en Python es muy importante.\n",
        "Python usa sangría para indicar un bloque de código.\n",
        "\n",
        "Python te dará un error si omite la sangría.\n",
        "\n",
        "El número de espacios depende de usted como programador, pero debe ser al menos uno.\n",
        "\n",
        "Tienes que usar la misma cantidad de espacios en el mismo bloque de código, de lo contrario Python te dará un error.\n",
        "\n",
        "Mientras que en otros lenguajes de programación la sangría en el código es solo para legibilidad, la sangría en Python es muy importante. Python usa sangría para indicar un bloque de código.\n",
        "\n",
        ">Correcto\n",
        "```python\n",
        "if 10 > 1:\n",
        "  print(\"Diez es mayor que uno\")\n",
        "```\n",
        ">Incorrecto - Python te dará un error si omite la sangría:\n",
        "```python\n",
        "if 10 > 1:\n",
        "print(\"Diez es mayor que uno\")\n",
        "```\n",
        "\n"
      ]
    },
    {
      "cell_type": "markdown",
      "metadata": {
        "id": "cKzlQoab6vlO"
      },
      "source": [
        "## **Estructura selectiva simple**\n",
        "\n",
        "La estructura selectiva si entonces permite que el flujo del algoritmo siga por un camino especifico si se cumple una condición o conjunto de condiciones. Si al evaluar la condición (o condiciones) el resultado es verdadero, entonces se ejecutan ciertas operaciones. Luego se continúa con la secuencia normal del programa.\n",
        "\n",
        "Esta acción es aplicable por ejemplo a cuando mis compras tienen un descuento si estoy cumpliendo años me dan el 10% de descuento de lo contrario no se hace ninguna operación, solo aplico el descuento si se cumple la condición de ser mi día de cumpleaños. 🥳"
      ]
    },
    {
      "cell_type": "markdown",
      "metadata": {
        "id": "-hj9gOZnNizK"
      },
      "source": [
        "### **Usando `if`**\n",
        "\n",
        "La condición `if` se considera la más simple de las tres y toma una decisión en función de si la condición es verdadera o no. Si la condición es verdadera, imprime la expresión con sangría. Si la condición es falsa, omite la impresión de la expresión con sangría.\n",
        "Es muy importante detallar que al terminar la condición debemos escribir dos puntos `:` indicando la finalización de la condición.\n",
        "La sangría o el sangrado indica que las expresiones detalladas se realizan en el entorno de la condición verdadera.\n",
        "\n",
        "\n",
        "```python\n",
        "if (condición):\n",
        "    expresión\n",
        "```\n"
      ]
    },
    {
      "cell_type": "code",
      "execution_count": null,
      "metadata": {
        "id": "bVj9--aNOztR"
      },
      "outputs": [],
      "source": [
        "#Ejemplo de if\n",
        "# Validar si a es mayor que b, ambos ingresados por teclado\n",
        "a = int(input('Ingresar el valor de a: '))\n",
        "\n",
        "b = int(input('Ingresar el valor de b: '))\n",
        "print('Validador de a mayor que b')\n",
        "if a > b:\n",
        "    print('a ({}) es mayor que ({}) b'.format(a, b))\n",
        "print('Fin')"
      ]
    },
    {
      "cell_type": "markdown",
      "metadata": {
        "id": "-KGQbOqrPqLe"
      },
      "source": [
        "### **`Ejemplo 1`**\n",
        "\n",
        "Ingresar la calificación de un estudiante, si la nota es mayor o igual a 3 imprimir aprobado.\n",
        "\n",
        "Nivel de dificultad:★☆☆☆☆"
      ]
    },
    {
      "cell_type": "code",
      "execution_count": null,
      "metadata": {
        "id": "vsaMvog8P2hS"
      },
      "outputs": [],
      "source": [
        "#Ejecutar la solución aquí\n",
        "nota = int(input('Ingresar el valor de la nota del estudiante: '))\n",
        "if nota >= 3:\n",
        "    print('Aprobado')"
      ]
    },
    {
      "cell_type": "markdown",
      "metadata": {
        "id": "Bbk6c_CGXy4j"
      },
      "source": [
        "### **`Ejemplo 2`**\n",
        "\n",
        "Ingresar el sueldo de un trabajador, si este es inferior al salario mínimo para el año 2025, aplicarle un incremento del 10% e imprimir el nuevo salario. (Consultar el [salario Mínimo](https://www.google.com/search?q=salario+minimo+2025).)\n",
        "\n",
        "Nivel de dificultad:★★☆☆☆"
      ]
    },
    {
      "cell_type": "code",
      "execution_count": null,
      "metadata": {
        "id": "MMlXRluLYUfe"
      },
      "outputs": [],
      "source": [
        "#Ejecutar la solución aquí\n",
        "SALARIO_MINIMO = 1_423_500\n",
        "salario_empleado = int(input('Ingresar salario: '))\n",
        "if salario_empleado < SALARIO_MINIMO:\n",
        "    salario_empleado *= 1.1\n",
        "print('El nuevo salario del empleado es: ', salario_empleado)"
      ]
    },
    {
      "cell_type": "markdown",
      "metadata": {
        "id": "NZpacW1JD3pj"
      },
      "source": [
        "## **Estructura selectiva doble**\n",
        "\n",
        "La estructura selectiva si entonces/sino permite que el flujo del algoritmo se bifurque por dos ramas diferentes en el punto de la toma de decisión o decisiones. Si al evaluar la condición o condiciones el resultado es verdadero `True`, entonces se sigue por un camino especifico y se ejecutan ciertas operaciones. Por otra parte, si el resultado es falso `False` se sigue por otro camino y se ejecutan otras operaciones. En ambos casos luego de ejecutarse las operaciones indicadas, se continua con la secuencia normal del algoritmo.\n",
        "\n",
        "Esta acción es aplicable por ejemplo a se necesita clasificar el estado del resultado de una asignatura para un estudiante, en este caso si la condición establece que, si la nota es mayor o igual a tres, en la operación si, se debe registrar que el estudiante ganó la asignatura y en la operación no, se debe registrar que el estudiante pierde la asignatura."
      ]
    },
    {
      "cell_type": "markdown",
      "metadata": {
        "id": "oFCYBqaunb5G"
      },
      "source": [
        "### **Usando `if-else`**\n",
        "\n",
        "\n",
        "La condición `if-else` agrega un paso adicional en el proceso de toma de decisiones en comparación con la declaración `if` simple. El comienzo de una instrucción `if-else` funciona de manera similar a una instrucción `if` simple; sin embargo, si la condición es falsa, en lugar de no imprimir nada, se imprimirá la expresión con sangría debajo de else. Es muy importante detallar que al terminar la condición debemos escribir dos puntos `:` indicando la finalización de la condición, tanto para el `if` como para el `else`.\n",
        "La sangría o el sangrado indica que las expresiones detalladas se realizan en el entorno de la condición verdadera y falsa de acuerdo con el flujo del algoritmo.\n",
        "\n",
        "```python\n",
        "if (condición):\n",
        "    expresión True\n",
        "else:\n",
        "    expresión False\n",
        "```\n",
        "\n"
      ]
    },
    {
      "cell_type": "markdown",
      "metadata": {
        "id": "G7ZxxyEWoI_0"
      },
      "source": [
        "### **`Ejemplo 1`**\n",
        "\n",
        "Ingresar la calificación de un estudiante, si la nota es mayor o igual a 3 imprimir aprobado, de lo contrario imprimir reprobado.\n",
        "\n",
        "\n",
        "Nivel de dificultad:★★☆☆☆"
      ]
    },
    {
      "cell_type": "code",
      "execution_count": null,
      "metadata": {
        "id": "EzwOdc82oI_3"
      },
      "outputs": [],
      "source": [
        "#Ejecutar la solución aquí\n",
        "nota = int(input('Ingresar el valor de la nota del estudiante: '))\n",
        "if nota >= 3:\n",
        "    print('Aprobado')\n",
        "else:\n",
        "    print('Reprobado')"
      ]
    },
    {
      "cell_type": "markdown",
      "metadata": {
        "id": "CbpHyDPnoXNm"
      },
      "source": [
        "### **`Ejemplo 2`**\n",
        "\n",
        "Ingresar el sueldo de un trabajador, si este es inferior al salario mínimo para el año 2025, aplicarle un incremento del 10% e imprimir el nuevo salario, de lo contrario aplicarle un incremento del 5%. (Consultar el [salario Mínimo](https://www.google.com/search?q=salario+minimo+2025).)\n",
        "\n",
        "Nivel de dificultad:★★☆☆☆"
      ]
    },
    {
      "cell_type": "code",
      "execution_count": null,
      "metadata": {
        "id": "iLltzd2HoXNn"
      },
      "outputs": [],
      "source": [
        "#Ejecutar la solución aquí\n",
        "SALARIO_MINIMO = 1_423_500\n",
        "salario_empleado = int(input('Ingresar salario: '))\n",
        "if salario_empleado < SALARIO_MINIMO:\n",
        "    salario_empleado *= 1.1\n",
        "else:\n",
        "    salario_empleado *= 1.05\n",
        "print('El nuevo salario del empleado es: ', salario_empleado)"
      ]
    },
    {
      "cell_type": "markdown",
      "metadata": {
        "id": "uF_qfaazWxtC"
      },
      "source": [
        "## **Si-Múltiple (Selector Múltiple)**\n",
        "\n",
        "La estructura selectiva si múltiple, permite que el flujo del diagrama se bifurque por varias ramas en el punto de la toma de decisiones, esto en función del valor que tome el selector.\n",
        "\n",
        "*   Selector: es la variable o expresión a evaluarse, según la cual se tomará una de las múltiples decisiones o alternativas.\n",
        ">*   Acción 1: Expresa la operación o conjunto de operaciones que se van a realizar si el selector toma el valor de 1.\n",
        ">*   Acción 2: Expresa la operación o conjunto de operaciones que se van a realizar si el selector toma el valor de 2.\n",
        ">*   Acción n: Expresa la operación o conjunto de operaciones que se van a realizar si el selector toma el valor de n.\n",
        ">*   Acción n+1: Expresa la operación o conjunto de operaciones que se van a realizar cuando se continúe con el flujo normal del programa.\n",
        "\n",
        "Esta acción es aplicable por ejemplo a los botones de ejecución de un cajero electrónico, o por ejemplo a la selección de la fila donde registraré los productos del supermercado, allí aplicamos la condición de escoger la que tiene menor cantidad de productos, pero siempre tengo múltiples opciones de las cuales debo escoger una y al final debo pagar."
      ]
    },
    {
      "cell_type": "markdown",
      "metadata": {
        "id": "RpKW9aR6XsYS"
      },
      "source": [
        "### **Usando `match-case`**\n",
        "\n",
        "La instrucción match en Python es una característica introducida en Python 3.10 como parte de la Propuesta de Mejora de Python (PEP) 634. Es una forma de hacer coincidir patrones en Python, similar a cómo se usan las declaraciones switch o case en otros lenguajes de programación. Esta característica permite una forma más limpia y legible de hacer coincidir objetos con ciertas condiciones.\n",
        "\n",
        "La instrucción match trabaja principalmente con literales, tipos de datos, y estructuras como listas o diccionarios, permitiendo realizar diferentes acciones dependiendo del patrón que coincida con el valor dado.\n",
        "\n",
        "```python\n",
        "match dato:\n",
        "    case opcion_1:\n",
        "        print(\"Opción 1\")\n",
        "    case opcion_2:\n",
        "        print(\"Opción 2\")\n",
        "    case opcion_3:\n",
        "        print(\"Opción 3\")\n",
        "    case _:\n",
        "        print(\"Opción no reconocida\")\n",
        "```"
      ]
    },
    {
      "cell_type": "markdown",
      "metadata": {
        "id": "Gbjorkp1YWF4"
      },
      "source": [
        "### **`Ejemplo 1`**\n",
        "\n",
        "Ingresar dos números enteros y un simbolo aritmetico de los detallados en el notebook 2 `['+', '-', '*', '/', '**', '%', '//']` para sobre los dos números ingresados en dicho orden. Utilizar `match-case` para elegir y validar el simbolo y luego aplicar la operación detallada.\n",
        "\n",
        "Nivel de dificultad:★★☆☆☆"
      ]
    },
    {
      "cell_type": "code",
      "source": [
        "numero1 = 44 # @param {\"type\":\"integer\"}\n",
        "numero2 = 5 # @param {\"type\":\"integer\"}\n",
        "operador = \"**\" # @param [\"+\",\"-\",\"*\",\"/\",\"**\",\"//\",\"%\"]\n"
      ],
      "metadata": {
        "cellView": "form",
        "id": "n_d3ehGwAc7b"
      },
      "execution_count": null,
      "outputs": []
    },
    {
      "cell_type": "code",
      "execution_count": null,
      "metadata": {
        "id": "qmK6EIM6YWF5"
      },
      "outputs": [],
      "source": [
        "match operador:\n",
        "    case \"+\":\n",
        "        print(\"Suma\")\n",
        "        resultado = numero1 + numero2\n",
        "    case \"-\":\n",
        "        print(\"Resta\")\n",
        "        resultado = abs(numero1 - numero2)\n",
        "    case \"*\":\n",
        "        print(\"Multiplicación\")\n",
        "        resultado = numero1 * numero2\n",
        "    case \"/\":\n",
        "        print(\"División\")\n",
        "        resultado = numero1 / numero2\n",
        "    case \"**\":\n",
        "        print(\"Potenciación\")\n",
        "        resultado = numero1 ** numero2\n",
        "    case \"%\":\n",
        "        print(\"Módulo\")\n",
        "        resultado = numero1 % numero2\n",
        "    case \"//\":\n",
        "        print(\"División Entera\")\n",
        "        resultado = numero1 // numero2\n",
        "    case _:\n",
        "        print(\"Opción no reconocida\")\n",
        "print('Resultado =', f'{resultado:,.2f}')"
      ]
    },
    {
      "cell_type": "markdown",
      "metadata": {
        "id": "U5yxw0EFYWF6"
      },
      "source": [
        "### **`Ejemplo 2`**\n",
        "\n",
        "Ingresar el sueldo de un trabajador y una categoria entre `A`, `B` y `C`. Aplicar un incremento al salario de acuerdo a las siguientes condiciones:\n",
        "*   Si la categoria es `A` aplicar un incremento del 25%.\n",
        "*   Si la categoria es `B` aplicar un incremento del 15%.\n",
        "*   Si la categoria es `C` aplicar un incremento del 10%.\n",
        "\n",
        "Nivel de dificultad:★★☆☆☆"
      ]
    },
    {
      "cell_type": "code",
      "source": [
        "sueldo = 7000000 # @param {type:\"integer\"}\n",
        "categoria = \"A\" # @param [\"A\", \"B\", \"C\"]"
      ],
      "metadata": {
        "id": "CqCI8Iv0DkHq"
      },
      "execution_count": null,
      "outputs": []
    },
    {
      "cell_type": "code",
      "execution_count": null,
      "metadata": {
        "id": "cpauqv5AYWF6"
      },
      "outputs": [],
      "source": [
        "if sueldo >= 1300_000:\n",
        "    match categoria:\n",
        "        case \"A\":\n",
        "            salario = sueldo*1.25\n",
        "        case \"B\":\n",
        "            salario = sueldo*1.15\n",
        "        case \"C\":\n",
        "            salario = sueldo*1.1\n",
        "    print('El salario incrementado para la categoria', categoria)\n",
        "    print('\\t$', f'{salario:,.0f}')\n",
        "else:\n",
        "    print('Mucho cuidado, No se quede callado, RENUNCIE')"
      ]
    },
    {
      "cell_type": "markdown",
      "metadata": {
        "id": "nGSRI1x_JPMv"
      },
      "source": [
        "## **Estructura selectiva anidada o en cascada**\n",
        "\n",
        "Encontramos numerosos casos en el desarrollo de la solución de problemas en el que luego de tomar una decisión y marcar el camino correspondiente a seguir, es necesario tomar otra decisión. Se señala, luego de evaluar las condiciones, la rama correspondiente a seguir, y nuevamente podemos tener que tomar otra decisión. El proceso puede repetirse numerosas veces. En este caso, para resolver el problema, estamos aplicando estructuras selectivas en cascada o anidadas."
      ]
    },
    {
      "cell_type": "markdown",
      "metadata": {
        "id": "BXZPspiMpPmv"
      },
      "source": [
        "### **Usando `if-elif-else`**\n",
        "\n",
        "\n",
        "La más compleja de estas condiciones es la condición `if-elif-else`. Cuando se encuentra en una situación en la que tiene varias condiciones, puede colocar tantas condiciones `elif` como sea necesario entre la condición `if` y la condición `else`. Es muy importante detallar que al terminar la condición debemos escribir dos puntos `:` indicando la finalización de la condición, tanto para el `if` como para `elif` y `else`.\n",
        "La sangría o el sangrado indica que las expresiones detalladas se realizan en el entorno de la condición verdadera y falsa de acuerdo con el flujo del algoritmo.\n",
        "\n",
        "```python\n",
        "if (condición 1):\n",
        "    expresión True de condición 1\n",
        "elif (condición 2)\n",
        "    expresión True de condición 2\n",
        "else:\n",
        "    expresión False\n",
        "```\n"
      ]
    },
    {
      "cell_type": "markdown",
      "metadata": {
        "id": "rUPXBCrYrF-i"
      },
      "source": [
        "### **`Ejemplo 1`**\n",
        "\n",
        "Ingresados por teclado los valores enteros a, b y c que representan números enteros diferentes, construya un algoritmo para escribir estos en forma descendente.\n",
        "\n",
        "Nivel de dificultad:★★★★☆"
      ]
    },
    {
      "cell_type": "code",
      "execution_count": null,
      "metadata": {
        "id": "HLHsQ-5CrF-l"
      },
      "outputs": [],
      "source": [
        "#Ejecutar la solución aquí\n",
        "a = int(input('Ingresar a: '))\n",
        "b = int(input('Ingresar b: '))\n",
        "c = int(input('Ingresar c: '))\n",
        "if a > b:\n",
        "    if a > c:\n",
        "        if b > c:\n",
        "            print(a,b,c)\n",
        "        else:\n",
        "            print(a,c,b)\n",
        "    else:\n",
        "        print(c,a,b)\n",
        "else:\n",
        "    if b > c:\n",
        "        if a > c:\n",
        "            print(b,a,c)\n",
        "        else:\n",
        "            print(b,c,a)\n",
        "    else:\n",
        "        print(c,b,a)\n",
        "print('Fin')"
      ]
    },
    {
      "cell_type": "markdown",
      "metadata": {
        "id": "kIqzN7aHtCs9"
      },
      "source": [
        "### **`Ejemplo 2`**\n",
        "\n",
        "Ingresar por teclado un numero entero y determinar si es positivo, negativo o cero.\n",
        "\n",
        "Nivel de dificultad:★☆☆☆☆"
      ]
    },
    {
      "cell_type": "code",
      "execution_count": null,
      "metadata": {
        "id": "fW4rCO2PtCs-"
      },
      "outputs": [],
      "source": [
        "#Ejecutar la solución aquí\n",
        "num = int(input('Ingresar un número entero: '))\n",
        "if num > 0:\n",
        "    print('Positivo')\n",
        "elif num == 0:\n",
        "    print('Cero')\n",
        "else:\n",
        "    print('Negativo')\n",
        "print('Fin')"
      ]
    },
    {
      "cell_type": "markdown",
      "source": [
        "## **Ejercicios Condicionales**\n",
        "Una vez completado los conocimientos necesarios para crear condicionales y estructuras selectivas ya podemos empezar a realizar nuestros primeros programas con decisiones."
      ],
      "metadata": {
        "id": "y-1W_F589u3t"
      }
    },
    {
      "cell_type": "markdown",
      "metadata": {
        "id": "R_J-eJ0X2IdW"
      },
      "source": [
        "### **`Ejercicio 0`**\n",
        "\n",
        "En una tienda efectúan un descuento a los clientes dependiendo del monto de la compra. El descuento se efectúa con base en la siguiente tabla:\n",
        "\n",
        "Valor | Descuento  | Límites\n",
        "---|---|---\n",
        "Entre 1 y 50.000 | <center>0%</center> | 50.000 Inclusive\n",
        "Entre 50.000 y 100.000 | <center>5%</center> | 100.000 Inclusive\n",
        "Entre 100.000 y 700.000 | <center>11% </center>| 700.000 Inclusive\n",
        "Entre 700.000 y 1.500.000 | <center>18%</center> | 1.500.000 Inclusive\n",
        "Mayor a 1.500.000 | <center>25%</center> | Solo Mayor a 1.500.000\n",
        "\n",
        "Construya un algoritmo que imprima el valor a pagar incluyendo el descuento.\n",
        "\n",
        "Nivel de dificultad:★★★☆☆"
      ]
    },
    {
      "cell_type": "code",
      "execution_count": null,
      "metadata": {
        "id": "oRaPzqNL2IdX"
      },
      "outputs": [],
      "source": [
        "#Solución"
      ]
    },
    {
      "cell_type": "markdown",
      "metadata": {
        "id": "KzqhEUO_3MiS"
      },
      "source": [
        "### **`Ejercicio 1`**\n",
        "\n",
        "Que, dadas dos edades, retorne la edad promedio si una de las edades es superior al doble de la otra, de lo contario retorne la diferencia de edades.\n",
        "\n",
        "Nivel de dificultad:★★☆☆☆\n",
        "\n"
      ]
    },
    {
      "cell_type": "code",
      "execution_count": null,
      "metadata": {
        "id": "XdhUFBzHPIY2"
      },
      "outputs": [],
      "source": [
        "#Solución"
      ]
    },
    {
      "cell_type": "markdown",
      "metadata": {
        "id": "CJcnTQY53M8E"
      },
      "source": [
        "### **`Ejercicio 2`**\n",
        "\n",
        "La ecuación de segundo grado:\n",
        "\n",
        "$ax² + bx + c = 0$\n",
        "\n",
        "puede tener una, dos o ninguna solución. Depende del valor del Discriminante:\n",
        "\n",
        "$D = b^2 - 4ac$\n",
        "\n",
        "$D=0$\n",
        "\n",
        "Dos soluciones reales iguales. (Una solución.)\n",
        "Realice un algoritmo en el cual precise si una ecuación de segundo grado se puede solucionar en los reales.\n",
        "\n",
        "Nivel de dificultad:★★★☆☆"
      ]
    },
    {
      "cell_type": "code",
      "execution_count": null,
      "metadata": {
        "id": "36UN9kTDPJEH"
      },
      "outputs": [],
      "source": [
        "#Solución"
      ]
    },
    {
      "cell_type": "markdown",
      "metadata": {
        "id": "vCmGUn0-3OMa"
      },
      "source": [
        "### **`Ejercicio 3`**\n",
        "\n",
        "El impuesto predial en el Municipio de Medellín se calcula de acuerdo con el estrato socioeconómico y al avalúo catastral del inmueble. Realice un algoritmo que calcule el impuesto predial, basándose en el avalúo y el estrato, utilizando la siguiente tabla:\n",
        "\n",
        "Avalúo | Estrato 1 | Estrato 2 | Estrato 3 | Estrato 4 | Estrato 5 | Estrato 6\n",
        "---|---|---|---|---|---|---\n",
        "De 0 a 5.000.000 | 6 Por Mil | 7 Por Mil | 8 Por Mil | 9 Por Mil | 10 Por Mil | 11 Por Mil\n",
        "De 5.000.001 a 50.000.000 | 7 Por Mil | 8 Por Mil | 9 Por Mil | 10 Por Mil | 11 Por Mil | 12 Por Mil\n",
        "De 50.000.001 a 100000000 | 8 Por Mil | 9 Por Mil | 10 Por Mil | 11 Por Mil | 12 Por Mil | 13 Por Mil\n",
        "De 100.000.001 a 300000000 | 9 Por Mil | 10 Por Mil | 11 Por Mil | 12 Por Mil | 13 Por Mil | 14 Por Mil\n",
        "De 300.000.001 en adelante | 10 Por Mil | 11 Por Mil | 12 Por Mil | 13 Por Mil | 14 Por Mil | 15 Por Mil\n",
        "\n",
        "\n",
        "Nivel de dificultad:★★★★☆\n",
        "\n"
      ]
    },
    {
      "cell_type": "code",
      "execution_count": null,
      "metadata": {
        "id": "B2MxFlwyPKoI",
        "cellView": "form"
      },
      "outputs": [],
      "source": [
        "estrato = 3 #@param {type:\"slider\", min:1, max:6, step:1}\n",
        "avaluo =  100000000#@param {type:\"integer\"}"
      ]
    },
    {
      "cell_type": "code",
      "execution_count": null,
      "metadata": {
        "id": "Ka0AKSG6XqSF"
      },
      "outputs": [],
      "source": [
        "#Solución"
      ]
    },
    {
      "cell_type": "markdown",
      "source": [
        "### **`Ejercicio 4`**\n",
        "\n",
        "El Construir un algoritmo que reciba las cinco notas de un curso y sus respectivos porcentajes, validar que los porcentajes sumen cien, que las notas se encuentren entre 0 y 5 inclusive y luego determinar si el curso se ha ganado o perdido.\n",
        "\n",
        "\n",
        "Nivel de dificultad:★★★☆☆"
      ],
      "metadata": {
        "id": "_sfqgPgbcYum"
      }
    },
    {
      "cell_type": "code",
      "source": [
        "#Solución"
      ],
      "metadata": {
        "id": "E3pQdxahcxhF"
      },
      "execution_count": null,
      "outputs": []
    },
    {
      "cell_type": "markdown",
      "metadata": {
        "id": "IjV4-vQDd6_A"
      },
      "source": [
        "# **Estructuras Repetitivas**\n",
        "\n",
        "Es muy común encontrar en la práctica algoritmos cuyas operaciones se deben ejecutar un número repetido de veces.\n",
        "\n",
        "El conjunto de instrucciones que se ejecuta repetidamente se llama ciclo o iteración.\n",
        "\n",
        "Todo ciclo debe terminar de ejecutarse luego de un número finito de veces, por lo que es necesario en cada iteración del mismo, evaluar las condiciones necesarias para decidir si se debe seguir ejecutando o si debe detenerse.\n",
        "\n",
        "En todo ciclo, siempre debe existir una condición de parada o fin de ciclo.\n",
        "\n",
        "Las estructuras lógicas repetitivas se utilizan cuando necesitamos realizar un algoritmo en el cual se deba repetir un proceso un numero $N$ de veces, las estructuras repetitivas se pueden mezclar con las estructuras selectivas si el problema lo necesita, también se hará uso de expresiones lógicas y operadores relacionales.\n"
      ]
    },
    {
      "cell_type": "markdown",
      "metadata": {
        "id": "Nmhs0hpBd6_B"
      },
      "source": [
        "## **Contador**\n",
        "\n",
        "La construcción de un contador es una de las técnicas más comunes en algoritmos repetitivos.\n",
        "Un contador es una variable que se incrementará en una unidad cada vez que se ejecute el proceso.\n",
        "\n",
        "El contador se utiliza para llevar la cuenta de determinadas acciones que se pueden solicitar durante la resolución de un problema. En las instrucciones de preparación se realiza la inicialización del contador o contadores.\n",
        "\n",
        "La inicialización consiste en poner el valor inicial de la variable que representa al contador. Generalmente se inicializa con el valor 0.\n",
        "\n",
        "Un contador es una variable utilizada para contar ocurrencias, es decir, llevar registro de cuántas veces ocurre algo.\n",
        "Ejemplos:\n",
        "*   Aplicaciones de Redes Sociales: Los contadores se utilizan para seguir la cantidad de \"me gusta\", comentarios o seguidores de un usuario. Cada vez que un usuario recibe un nuevo \"me gusta\", el contador correspondiente se incrementa en uno.\n",
        "*   Sistemas de Comercio Electrónico: En una tienda en línea, un contador puede llevar la cuenta de los artículos disponibles en stock. Cada vez que se realiza una venta, el contador disminuye en función de la cantidad de artículos vendidos.\n",
        "*   Videojuegos: Los contadores se emplean para rastrear la puntuación de los jugadores, vidas restantes, o el número de enemigos derrotados. Estos contadores se actualizan a lo largo del juego según las acciones del jugador.\n",
        "\n",
        "\n",
        "\n"
      ]
    },
    {
      "cell_type": "markdown",
      "metadata": {
        "id": "BpyxlCG8ko4u"
      },
      "source": [
        "## **Acumuladores**\n",
        "\n",
        "Un acumulador  es una variable en la memoria cuya misión es almacenar cantidades variables, a diferencia del contador que almacena incrementos fijos.\n",
        "\n",
        "Se utiliza para efectuar sumas, multiplicaciones u operaciones  sucesivas. La principal diferencia con el contador es que el incremento o decremento de cada suma es variable en lugar de constante como en el caso del contador.\n",
        "\n",
        "Ejemplos de Acumuladores\n",
        "\n",
        "*   Análisis Financiero: Los acumuladores son cruciales para calcular totales, como el saldo de una cuenta bancaria. Cada transacción (ingreso o gasto) modifica el saldo total acumulado de la cuenta.\n",
        "*   Sistemas de Facturación: En un sistema de facturación, un acumulador puede sumar el total de los costos de los productos o servicios adquiridos, aplicando los impuestos y descuentos correspondientes para obtener el monto final a pagar.\n",
        "*   Procesamiento de Datos y Estadísticas: Los acumuladores son utilizados en la ciencia de datos para sumar grandes volúmenes de información, como el total de kilómetros recorridos por una flota de vehículos, o para calcular promedios, como la temperatura media en un período específico.\n",
        "\n",
        "\n"
      ]
    },
    {
      "cell_type": "markdown",
      "metadata": {
        "id": "nDT33Kvtd6_C"
      },
      "source": [
        "## **Contadores y Acumuladores**\n",
        "\n",
        "El ejemplo más sencillo para explicar contadores y acumuladores detalla el promedio de n números ingresados a un sistema.\n",
        "Un contador debe llevar cuenta de la cantidad de números ingresados y el acumulador debe llevar la suma de todos los valores ingresados, al final del procedimiento realizamos la siguiente operación,\n",
        "\n",
        "${promedio} = \\frac{acumulador}{contador}$"
      ]
    },
    {
      "cell_type": "markdown",
      "metadata": {
        "id": "5AvbfIPAl4Gc"
      },
      "source": [
        "## **Dos Tipos de Ciclos**\n",
        "\n",
        "### **FOR**\n",
        "\n",
        "En algunos programas o algoritmos desde la misma concepción podemos identificar que necesitamos repetir una estructura o una tarea un numero conocido de veces. Por ejemplo, en ejercicios anteriores se ha necesitado ingresar una cantidad de valores fija para calcular su valor promedio, ahora este tipo de estructuras (repetitivas) nos permiten optimizar nuestros algoritmos de manera directa sin necesidad de repetir instrucciones la cantidad de veces que un elemento se necesite múltiples ocasiones. Este tipo de estructuras donde se conoce exactamente la cantidad de elementos a repetir tiene una denominación y se le conoce como “For Loops” o “Ciclos Para”.\n",
        "\n",
        "### **WHILE**\n",
        "\n",
        "En otros casos existen programas en donde no conocemos la cantidad de elementos o datos a repetir en una estructura, el número de repeticiones dependerá de las decisiones o valores que pueda o puedan tomar algunas variables o de controles internos de este. En otros casos es solo esperar a que una condición o valor se cumpla o se encuentre. Este tipo de estructuras donde no se conoce la cantidad de elementos a repetir tiene una denominación y se le conoce como “While Loops” o “Ciclos Mientras”.\n"
      ]
    },
    {
      "cell_type": "markdown",
      "source": [
        "A continuación, veremos en detalle su estructura. Iniciemos con el ciclo FOR."
      ],
      "metadata": {
        "id": "-y-G10psmMDi"
      }
    },
    {
      "cell_type": "markdown",
      "source": [
        "## **FOR**\n",
        "\n",
        "Para, también llamado en inglés FOR, es la estructura algorítmica adecuada para utilizar en un ciclo que se ejecutará un número definido de veces.\n",
        "\n",
        "El número de veces del ciclo no depende de las proposiciones dentro de el mismo. El número de veces se obtiene del planteamiento del problema o de una lectura que indica que el número de iteraciones se debe realizar para $N$ ocurrencias.\n",
        "\n",
        "Para los ciclos Para (FOR) se definen las siguientes variables:\n",
        "\n",
        "*   V: es la variable de control del ciclo.\n",
        "*   VI: es el valor inicial.\n",
        "*   VF: es el valor final.\n",
        "*   ID:\tes el incremento o decremento, según sea la estructura ascendente o descendente.\n",
        "\n",
        "V, contador del ciclo normalmente es representado por las letras “i, j, k” (Ver anexo del nacimiento de `i`\n",
        "- El ciclo se ejecuta mientras V es menor, menor igual, mayor o mayor igual al valor de VF, el valor de V se incrementa o disminuye en cada iteración. Cuando V supera el valor de VF el ciclo se detiene.\n",
        "\n",
        "\n",
        "### **Usando `i` como variable en ciclos**\n",
        "\n",
        "La tradición de usar `i` como variable preferida en los ciclos, especialmente en los ciclos for, proviene de las primeras décadas de la programación y tiene sus raíces en la matemática y en el lenguaje de programación Fortran, uno de los primeros lenguajes de programación de alto nivel, desarrollado en los años 50.\n",
        "\n",
        "*   De las matemáticas:\n",
        ">En matemáticas, la letra `i` se ha utilizado tradicionalmente para representar el primer índice en sumas y otras operaciones repetitivas. Esta práctica se remonta al siglo XIX y ha influido en la cultura de la programación.\n",
        ">\n",
        ">$\\sum_{i=1}^{n} i=\\frac{n^2+n}{2}$\n",
        "\n",
        "*   De Fortran:\n",
        ">Fortran, siendo un lenguaje ampliamente usado en la comunidad científica y de ingeniería, adoptó esta convención. En Fortran, las variables que comienzan con las letras I, J, K, L, M, o N son automáticamente de tipo entero (integer), lo que las hacía ideales para ser usadas como contadores o índices en los bucles. Esto se debió en parte a la limitación del lenguaje y a la facilidad de escritura y comprensión del código.\n",
        "\n",
        "*   Otros Lenguajes:\n",
        ">Con el paso del tiempo, esta convención se ha mantenido y ha sido adoptada por otros lenguajes de programación, como C, C++, Java, y JavaScript, entre otros. Usar `i` como variable de iteración se ha convertido en una práctica estándar debido a la familiaridad y la expectativa de que `i` represente un índice o contador en un bucle.\n",
        "\n",
        "*   Es una regla no escrita.\n",
        ">Aunque el uso de `i` es simplemente una convención y los programadores pueden elegir cualquier nombre de variable, la práctica de usar `i`, seguido por `j` y luego `k` para bucles anidados, sigue siendo muy común por su claridad y brevedad, facilitando la lectura y comprensión del código, especialmente en contextos donde se realizan operaciones iterativas o de índices.\n",
        "\n"
      ],
      "metadata": {
        "id": "0uzPKoPAmSNc"
      }
    },
    {
      "cell_type": "markdown",
      "source": [
        "## **WHILE**\n",
        "\n",
        "Mientras, también llamado en inglés WHILE, es la estructura adecuada para utilizar en un ciclo cuando no sabemos el número de veces que este se ha de repetir.\n",
        "\n",
        "Dicho número depende de las proposiciones dentro del ciclo.\n",
        "\n",
        "El ciclo mientras (WHILE)  se distinguen dos partes:\n",
        "\n",
        "*   Ciclo: Conjunto de instrucciones que se ejecutarán repetidamente.\n",
        "*   Condición de terminación: La evaluación de esta condición permite decidir cuándo finalizará la ejecución del ciclo. La condición se evalúa al inicio del mismo.\n",
        "\n",
        "Para los ciclos Mientras (WHILE) se definen las siguientes variables:\n",
        "*   PI: \tLa proposición inicial, debe tener un valor verdadero inicialmente, si el valor de PI es falso, entonces el ciclo no se ejecutará.\n",
        "\n",
        "Debe existir también un enunciado dentro del ciclo que afecte la condición, para evitar que el ciclo se ejecute indefinidamente.\n",
        "\n",
        "\n"
      ],
      "metadata": {
        "id": "fSyAQJoPx9Co"
      }
    },
    {
      "cell_type": "markdown",
      "metadata": {
        "id": "VY_PdtLzyb8k"
      },
      "source": [
        "# **Estructura repetitiva FOR (Python)**\n",
        "\n",
        "Un ciclo `for` se utiliza para iterar sobre una secuencia (sobre una lista, una tupla, un diccionario, un conjunto o una cadena).\n",
        "\n",
        "Esto es menos parecido a la palabra clave `for` en otros lenguajes de programación y funciona más como un método iterador que se encuentra en otros lenguajes de programación orientados a objetos.\n",
        "\n",
        "Con el ciclo `for` podemos ejecutar un conjunto de declaraciones, una vez para cada elemento de una lista, tupla, conjunto, etc.\n",
        "\n",
        "Python solo implementa la iteración basada en colecciones. A primera vista, puede parecer poco, pero la implementación de la iteración definida es tan versátil que será suficiente.\n",
        "\n",
        "El ciclo for tiene dos características muy importantes, el encabezado con los dos puntos al final de la primera instrucción y la sangría.\n",
        "\n",
        "El ciclo `for` de Python se ve así:\n",
        "\n",
        "```python\n",
        "for <variable> in <iterable>:\n",
        "    <instrucciones>\n",
        "```\n",
        "\n",
        "*   `<iterable>` es una colección de objetos, por ejemplo, una lista o tupla.\n",
        "*   Las `<instrucciones>` en el cuerpo del ciclo se indican con sangría, como con todas las estructuras de control de Python, y se ejecutan una vez para cada elemento en `<iterable>`.\n",
        "*   La variable de ciclo `<variable>` toma el valor del siguiente elemento en `<iterable>` cada vez que pasa por el ciclo.\n",
        "\n",
        "A continuación un ejemplo:"
      ]
    },
    {
      "cell_type": "markdown",
      "metadata": {
        "id": "7DEKHkdkyX11"
      },
      "source": [
        "### **`Ejemplo 1`**\n",
        "\n",
        "Ingresar por teclado 10 números, sumar los pares y multiplicar los impares.\n",
        "\n",
        "Nivel de dificultad:★☆☆☆☆\n"
      ]
    },
    {
      "cell_type": "code",
      "execution_count": null,
      "metadata": {
        "id": "umgFrwj8wf8o"
      },
      "outputs": [],
      "source": [
        "#Solucion\n",
        "pares, impares = [], []\n",
        "sumpares = 0\n",
        "multimpares = 1\n",
        "for i in range(10):\n",
        "    x = int(input('Ingresar numero: '))\n",
        "    if x % 2 == 0:\n",
        "        pares.append(x)\n",
        "    else:\n",
        "        impares.append(x)\n",
        "for y in pares:\n",
        "    sumpares += y\n",
        "for z in impares:\n",
        "    multimpares *= z\n",
        "print('La suma de los numeros pares es {}, la multiplicacion de los impares es {}'.format(sumpares, multimpares))"
      ]
    },
    {
      "cell_type": "markdown",
      "metadata": {
        "id": "A0jWGo2xQO3g"
      },
      "source": [
        "# **Estructura repetitiva WHILE (Python)**\n",
        "\n",
        "Con el ciclo while podemos ejecutar un conjunto de declaraciones siempre que una condición sea verdadera.\n",
        "\n",
        "El ciclo `while` de Python se ve así:\n",
        "\n",
        "```python\n",
        "while <expr>:\n",
        "    <instrucciones>\n",
        "```\n",
        "`<instrucciones>` representa el bloque que se ejecutará repetidamente, a menudo denominado el cuerpo del ciclo. Este se denota con sangría, al igual que en una declaración `if`.\n",
        "\n",
        "La expresión de control, `<expr>`, normalmente involucra una o más variables que se inicializan antes de iniciar el ciclo y luego se modifican en algún lugar del cuerpo del ciclo.\n",
        "\n",
        "Cuando se encuentra un ciclo while, `<expr>` se evalúa primero en un contexto booleano. Si es cierto, se ejecuta el cuerpo del bucle. Luego, se vuelve a comprobar `<expr>` y, si sigue siendo cierto, el cuerpo se ejecuta de nuevo. Esto continúa hasta que `<expr>` se vuelve falso, momento en el que la ejecución del programa procede a la primera declaración más allá del cuerpo del bucle."
      ]
    },
    {
      "cell_type": "markdown",
      "metadata": {
        "id": "-itjrTw3gxwN"
      },
      "source": [
        "### **`Ejemplo 1`**\n",
        "\n",
        "Realizar un algoritmo que relice la suma e imprima la siguiente serie:\n",
        "$2, 5, 7, 10, 12, 15, 17,..., 1800 $\n",
        "\n",
        "Nivel de dificultad:★★★☆☆"
      ]
    },
    {
      "cell_type": "code",
      "execution_count": null,
      "metadata": {
        "id": "4rMZqYlXhIQZ"
      },
      "outputs": [],
      "source": [
        "#Solucion\n",
        "bandera = True\n",
        "sumaserie = 0\n",
        "serie = []\n",
        "i = 2\n",
        "while i <= 1800:\n",
        "    sumaserie += i\n",
        "    serie.append(i)\n",
        "    if bandera:\n",
        "        bandera = False\n",
        "        i += 3\n",
        "    else:\n",
        "        bandera = True\n",
        "        i += 2\n",
        "print(sumaserie)\n",
        "print(serie)"
      ]
    },
    {
      "cell_type": "markdown",
      "source": [
        "## **Ejercicios Ciclos**\n",
        "Una vez completado los conocimientos necesarios para crear ciclos ya podemos empezar a realizar nuestros primeros programas con estructuras repetitivas."
      ],
      "metadata": {
        "id": "JlyyFaz1h002"
      }
    },
    {
      "cell_type": "markdown",
      "metadata": {
        "id": "YJpqkjfwyZG8"
      },
      "source": [
        "### **`Ejercicio 0`**\n",
        "\n",
        "Elaborar un algoritmo que lea un número $n$ y calcule el resultado de la siguiente serie:\n",
        "\n",
        "$ 1 - \\frac{1}{2}+\\frac{1}{3}-\\frac{1}{4}+\\frac{1}{5}-\\frac{1}{6}+...\\pm\\frac{1}{n}$\n",
        "\n",
        "Nivel de dificultad:★★★☆☆"
      ]
    },
    {
      "cell_type": "code",
      "execution_count": null,
      "metadata": {
        "id": "BiA8_YMlyYi9"
      },
      "outputs": [],
      "source": [
        "#Solucion"
      ]
    },
    {
      "cell_type": "markdown",
      "metadata": {
        "id": "Z5UuvJhJOzkc"
      },
      "source": [
        "### **`Ejercicio 1`**\n",
        "\n",
        "Dados $n$ números enteros realizar un algoritmo que realice:\n",
        "\n",
        "1.   ¿Cuántos números son mayores a cero?\n",
        "2.   Calcular el promedio de los números positivos\n",
        "3.   Calcular el promedio de todos los números\n",
        "\n",
        "Nivel de dificultad:★★★☆☆"
      ]
    },
    {
      "cell_type": "code",
      "execution_count": null,
      "metadata": {
        "id": "1_E1cO63PUI7"
      },
      "outputs": [],
      "source": [
        "#Solucion"
      ]
    },
    {
      "cell_type": "markdown",
      "metadata": {
        "id": "Z1Y2eLj-C60P"
      },
      "source": [
        "### **`Ejercicio 3`**\n",
        "\n",
        "Copia y pega un párrafo de internet en una variable tipo str.\n",
        "Identifica cuantas vocales y consonantes hay en el texto.\n",
        "Muestra las vocales con su cantidad de uso en orden descendente, realiza lo mismo para las consonantes.\n",
        "\n",
        "Nivel de dificultad:★★★★☆"
      ]
    },
    {
      "cell_type": "code",
      "execution_count": null,
      "metadata": {
        "id": "BQLXtUSWC60P"
      },
      "outputs": [],
      "source": [
        "#Solucion"
      ]
    },
    {
      "cell_type": "markdown",
      "metadata": {
        "id": "g3E0Ml9eiA72"
      },
      "source": [
        "### **`Ejercicio 4`**\n",
        "\n",
        "Calcule el aumento de suelto para un grupo de empleados de una empresa teniendo en cuenta el siguiente criterio:\n",
        "*    Si el sueldo es inferior a \\$1.000.000\n",
        ">*    Aumento del 15%\n",
        "*    Si el sueldo es mayor o igual a \\$1.000.000\n",
        ">*    Aumento del 12%\n",
        "\n",
        "Imprimir el nuevo sueldo del trabajador y el total de nómina de la empresa, considerando el nuevo valor. Para terminar de ingresar salarios ingrese una letra.\n",
        "\n",
        "Nota: Opcional, calcular el incremento promedio porcentual de los empleados y el crecimiento de nómina para los nuevos salarios.\n",
        "\n",
        "Nivel de dificultad:★★☆☆☆"
      ]
    },
    {
      "cell_type": "code",
      "execution_count": null,
      "metadata": {
        "id": "kjamlFtNo5pW"
      },
      "outputs": [],
      "source": [
        "#Solucion"
      ]
    },
    {
      "cell_type": "markdown",
      "metadata": {
        "id": "8xPWD20aAnyT"
      },
      "source": [
        "### **`Ejercicio 5`**\n",
        "\n",
        "Elabore un algoritmo que imprima los enteros desde uno hasta n de la siguiente manera:\n",
        "\n",
        "$1, 22, 333, 4444, 55555…$\n",
        "\n",
        "Nivel de dificultad:★★★★☆\n"
      ]
    },
    {
      "cell_type": "code",
      "execution_count": null,
      "metadata": {
        "id": "PM88xUkxCCVn"
      },
      "outputs": [],
      "source": [
        "#Solucion"
      ]
    },
    {
      "cell_type": "markdown",
      "metadata": {
        "id": "VV0zoNZiecQB"
      },
      "source": [
        "### **`Ejercicio 6`**\n",
        "\n",
        "Una secuencia de números está formada por números de tres cifras, mayores que 100, que cumplen con la propiedad de que la cifra del medio es el promedio de las cifras de los extremos: 123, 135, …, 246, ... . Si se continúa escribiendo la secuencia con este mismo patrón, en orden ascendente, entonces mediante un algoritmo defina cuantos números cumplen con la secuencia e imprimirlos.\n",
        "\n",
        "Nivel de dificultad:★★★☆☆\n",
        "\n",
        "\n"
      ]
    },
    {
      "cell_type": "code",
      "execution_count": null,
      "metadata": {
        "id": "7sHfmMDPCExc"
      },
      "outputs": [],
      "source": [
        "#Solución"
      ]
    },
    {
      "cell_type": "markdown",
      "metadata": {
        "id": "x8cPydJqUGok"
      },
      "source": [
        "### **`Ejercicio 7`**\n",
        "\n",
        "Realizar un algoritmo que calcule la varianza de cinco números ingresados por teclado. La varianza, que se denota con $\\sigma^{2}$, es:\n",
        "\n",
        "Cálculo de la varianza\n",
        "\n",
        "$\\large\\sigma^{2} = \\frac{\\sum_{i=1}^{n} (x_{i}-\\overline{x})^{2}}{n} $\n",
        "\n",
        "\n",
        "Recordemos el cálculo de la media.\n",
        "\n",
        "$\\large\\overline{x} = \\frac{\\sum_{i=1}^{n} x_{i}}{n}$\n",
        "\n",
        "Nivel de dificultad:★★★☆☆"
      ]
    },
    {
      "cell_type": "code",
      "execution_count": null,
      "metadata": {
        "id": "6oQxf9i26kYs"
      },
      "outputs": [],
      "source": [
        "#Solución"
      ]
    },
    {
      "cell_type": "markdown",
      "source": [
        "### **`Ejercicio 8`**\n",
        "\n",
        "Actualmente la edad de Charles Fabricio es 1/7 de la edad de su padre Don Hamilton Fabricio. Cuando la edad de Hamilton se divide por 2, o por 3 o por 4 o por 6 o por 5, siempre deja residuo 1; pero si se divide por 7, deja residuo 0. Cual es la edad de Keyner sabiendo que don Hamilton no tiene más de cien años. Suponiendo que don Hamilton es vampiro y no tiene restricción de edad, cuantas posibles edades tendría Keyner y asumiendo el presente año la edad final de Keyner, en que año nacen tanto Keyner como don Hamilton.\n",
        "\n",
        "Nivel de dificultad:★★★☆☆"
      ],
      "metadata": {
        "id": "P7a3BRxAkO-P"
      }
    },
    {
      "cell_type": "code",
      "source": [
        "#Solución"
      ],
      "metadata": {
        "id": "juBOt5vAkWjH"
      },
      "execution_count": null,
      "outputs": []
    }
  ]
}